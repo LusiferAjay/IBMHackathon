{
 "cells": [
  {
   "cell_type": "code",
   "execution_count": 93,
   "metadata": {
    "collapsed": true
   },
   "outputs": [],
   "source": [
    "import numpy as np\n",
    "from numpy.random import randn\n",
    "import pandas as pd\n",
    "from pandas import Series,DataFrame,pandas\n",
    "from scipy import stats\n",
    "import matplotlib as mpl\n",
    "import matplotlib.pyplot as plt\n",
    "import seaborn as sns\n",
    "import random\n",
    "%matplotlib inline \n",
    "sns.set(style=\"darkgrid\")\n",
    "pandas.set_option('display.max_columns', None)"
   ]
  },
  {
   "cell_type": "code",
   "execution_count": 94,
   "metadata": {
    "collapsed": true
   },
   "outputs": [],
   "source": [
    "df=pd.read_csv('C:\\\\Users\\\\hp\\\\Downloads\\\\ibm\\\\food\\\\vegcanned.csv')  \n",
    "fc=df[[\"Year\",\"Commodity\",\"Supply\",\"Unit\",\"Population\",\"Amount\"]]\n",
    "#Supply is sum of Production,Imports and Beginning stocks\n",
    "#Amount is supply - (Exports + Ending stocks) , i.e is amount of food used up\n",
    "fc=fc.dropna()\n",
    "fc=fc.sort_values(\"Year\")\n",
    "fc=fc.reset_index(drop=True)"
   ]
  },
  {
   "cell_type": "code",
   "execution_count": 95,
   "metadata": {},
   "outputs": [
    {
     "data": {
      "text/plain": [
       "'making a new dataframe by calculating total amount of food for each year , the population for that year\\n   and calculating rate of consumption for that year by dividing total food by the population and 365\\n   to get rate of consumption per person per day'"
      ]
     },
     "execution_count": 95,
     "metadata": {},
     "output_type": "execute_result"
    }
   ],
   "source": [
    "\"\"\"making a new dataframe by calculating total amount of food for each year , the population for that year\n",
    "   and calculating rate of consumption for that year by dividing total food by the population and 365\n",
    "   to get rate of consumption per person per day\"\"\""
   ]
  },
  {
   "cell_type": "code",
   "execution_count": 96,
   "metadata": {
    "collapsed": true
   },
   "outputs": [],
   "source": [
    "yr=[]\n",
    "am=[]\n",
    "pol=[]\n",
    "rc=[]\n",
    "i=1970\n",
    "while (i<2015):\n",
    "    su=0\n",
    "    for x in range(0,len(fc)):\n",
    "        if fc[\"Year\"][x]==i:\n",
    "            su+=fc[\"Amount\"][x]\n",
    "            po=fc[\"Population\"][x]\n",
    "    yr.append(i)\n",
    "    am.append(su)\n",
    "    pol.append(int(po))\n",
    "    rc.append(((su/po)/365))\n",
    "    i+=1"
   ]
  },
  {
   "cell_type": "code",
   "execution_count": 97,
   "metadata": {},
   "outputs": [
    {
     "name": "stdout",
     "output_type": "stream",
     "text": [
      "    year  total_amount(pounds)  population  rate_of_consumption(person/day)\n",
      "0   1970          19061.728510         205                         0.254686\n",
      "1   1971          22421.901237         206                         0.297530\n",
      "2   1972          21837.039708         209                         0.285034\n",
      "3   1973          20904.635104         211                         0.270272\n",
      "4   1974          21282.035353         212                         0.273829\n",
      "5   1975          21083.264663         215                         0.267452\n",
      "6   1976          22525.112664         218                         0.283040\n",
      "7   1977          22356.740094         220                         0.278113\n",
      "8   1978          21582.701382         222                         0.265654\n",
      "9   1979          22602.898088         225                         0.275158\n",
      "10  1980          23303.827125         227                         0.280364\n",
      "11  1981          22312.435308         229                         0.265822\n",
      "12  1982          22088.462955         232                         0.260635\n",
      "13  1983          22611.945171         234                         0.264399\n",
      "14  1984          24257.072477         236                         0.281186\n",
      "15  1985          23667.842658         238                         0.271919\n",
      "16  1986          23969.869784         240                         0.272888\n",
      "17  1987          24038.204043         242                         0.271240\n",
      "18  1988          23184.821057         245                         0.259243\n",
      "19  1989          25151.160863         247                         0.278591\n",
      "20  1990          27587.575670         250                         0.302170\n",
      "21  1991          28486.889075         253                         0.307883\n",
      "22  1992          28270.869118         256                         0.301503\n",
      "23  1993          28591.546128         260                         0.300986\n",
      "24  1994          28906.096728         263                         0.300622\n",
      "25  1995          28842.288120         266                         0.296447\n",
      "26  1996          28699.503273         269                         0.291577\n",
      "27  1997          28777.650059         272                         0.288895\n",
      "28  1998          29080.919839         276                         0.288553\n",
      "29  1999          28735.294050         277                         0.283404\n",
      "30  2000          29136.208215         282                         0.282682\n",
      "31  2001          27542.538760         283                         0.265775\n",
      "32  2002          28919.881816         288                         0.275013\n",
      "33  2003          29333.940395         290                         0.276346\n",
      "34  2004          30090.030331         293                         0.280916\n",
      "35  2005          31067.618403         296                         0.287376\n",
      "36  2006          28256.016782         298                         0.258912\n",
      "37  2007          29241.379590         302                         0.265273\n",
      "38  2008          28935.318690         304                         0.260090\n",
      "39  2009          30980.287448         307                         0.276079\n",
      "40  2010          30724.826166         308                         0.272567\n",
      "41  2011          28552.923780         312                         0.250617\n",
      "42  2012          29212.634536         314                         0.254616\n",
      "43  2013          28292.865030         316                         0.244908\n",
      "44  2014          29053.956829         318                         0.249655\n"
     ]
    }
   ],
   "source": [
    "tb=pd.DataFrame({\"year\":yr,\"total_amount(pounds)\":am,\"population\":pol,\"rate_of_consumption(person/day)\":rc})\n",
    "print (tb)"
   ]
  },
  {
   "cell_type": "code",
   "execution_count": 98,
   "metadata": {},
   "outputs": [
    {
     "data": {
      "text/plain": [
       "'plotting population vs total amount of food in pounds\\n   and year passed vs rate of consumption per person per day'"
      ]
     },
     "execution_count": 98,
     "metadata": {},
     "output_type": "execute_result"
    }
   ],
   "source": [
    "\"\"\"plotting population vs total amount of food in pounds\n",
    "   and year passed vs rate of consumption per person per day\"\"\""
   ]
  },
  {
   "cell_type": "code",
   "execution_count": 99,
   "metadata": {},
   "outputs": [
    {
     "data": {
      "text/plain": [
       "[<matplotlib.lines.Line2D at 0x1e77a9bc160>]"
      ]
     },
     "execution_count": 99,
     "metadata": {},
     "output_type": "execute_result"
    },
    {
     "data": {
      "image/png": "[encoded data removed]",
      "text/plain": [
       "<matplotlib.figure.Figure at 0x1e77ac6bb00>"
      ]
     },
     "metadata": {},
     "output_type": "display_data"
    },
    {
     "data": {
      "image/png": "[encoded data removed]",
      "text/plain": [
       "<matplotlib.figure.Figure at 0x1e77ac6bef0>"
      ]
     },
     "metadata": {},
     "output_type": "display_data"
    }
   ],
   "source": [
    "f1 = plt.figure()\n",
    "f2 = plt.figure()\n",
    "ax1 = f1.add_subplot(111)\n",
    "ax1.plot(tb[\"population\"],tb[\"total_amount(pounds)\"])\n",
    "ax2 = f2.add_subplot(111)\n",
    "ax2.plot(tb[\"year\"],tb[\"rate_of_consumption(person/day)\"])"
   ]
  },
  {
   "cell_type": "code",
   "execution_count": 100,
   "metadata": {},
   "outputs": [
    {
     "name": "stdout",
     "output_type": "stream",
     "text": [
      "203.74895627089842\n"
     ]
    }
   ],
   "source": [
    "\"\"\"in case of a disaster , just multiply the rate of counsumption for that year with the number of people to be supplied\n",
    "   and the number of days the supply is required i.e [(rate_of_consumption(person/day))*no of people affected*no of days required]\"\"\"\n",
    "# for example if a disaster stuck in 1970 and 200 people were to be supplied for 4 days .....\n",
    "print ((tb[\"rate_of_consumption(person/day)\"][0])*200*4)"
   ]
  },
  {
   "cell_type": "code",
   "execution_count": 101,
   "metadata": {},
   "outputs": [
    {
     "name": "stdout",
     "output_type": "stream",
     "text": [
      "          Type   2012\n",
      "0    Emigrants    332\n",
      "1    Emigrants     34\n",
      "2    Emigrants    211\n",
      "3    Emigrants    100\n",
      "4    Emigrants    149\n",
      "5    Emigrants    826\n",
      "6    Emigrants     19\n",
      "7    Emigrants   1843\n",
      "8    Emigrants   1537\n",
      "9    Emigrants   1849\n",
      "10   Emigrants   1611\n",
      "11   Emigrants   6859\n",
      "12   Emigrants   5496\n",
      "13   Emigrants  12214\n",
      "14   Emigrants   2831\n",
      "15   Emigrants   6515\n",
      "16   Emigrants  27056\n",
      "17   Emigrants      7\n",
      "18   Emigrants    170\n",
      "19   Emigrants    612\n",
      "20   Emigrants    789\n",
      "21   Emigrants   6288\n",
      "22   Emigrants    958\n",
      "23   Emigrants     ..\n",
      "24   Emigrants     ..\n",
      "25   Emigrants    958\n",
      "26   Emigrants    887\n",
      "27  Immigrants    993\n",
      "28  Immigrants    130\n",
      "29  Immigrants    313\n",
      "30  Immigrants    162\n",
      "31  Immigrants    293\n",
      "32  Immigrants   1891\n",
      "33  Immigrants     49\n",
      "34  Immigrants   1834\n",
      "35  Immigrants   2809\n",
      "36  Immigrants   3196\n",
      "37  Immigrants   2573\n",
      "38  Immigrants  10461\n",
      "39  Immigrants  10657\n",
      "40  Immigrants  13603\n",
      "41  Immigrants   4105\n",
      "42  Immigrants   5977\n",
      "43  Immigrants  34342\n",
      "44  Immigrants     78\n",
      "45  Immigrants    251\n",
      "46  Immigrants    659\n",
      "47  Immigrants    988\n",
      "48  Immigrants   5084\n",
      "49  Immigrants   1146\n",
      "50  Immigrants      4\n",
      "51  Immigrants     ..\n",
      "52  Immigrants     ..\n",
      "53  Immigrants   1150\n",
      "54  Immigrants    493\n"
     ]
    }
   ],
   "source": [
    "df2=pd.read_excel('C:\\\\Users\\\\hp\\\\Downloads\\\\ibm\\\\food\\\\Denmark2.xlsx')  \n",
    "pc=df2[[\"Type\",2012]]\n",
    "print (pc)"
   ]
  },
  {
   "cell_type": "code",
   "execution_count": 102,
   "metadata": {
    "collapsed": true
   },
   "outputs": [],
   "source": [
    "# we are considering emigrants and immigrants as tourists and or workers incoming or outgoing per day\n",
    "s1=0\n",
    "s2=0\n",
    "for x in range(0,len(pc)):\n",
    "    if pc[\"Type\"][x]==\"Emigrants\": \n",
    "        if (type(pc[2012][x]))==int:\n",
    "            s1+=pc[2012][x]\n",
    "    elif pc[\"Type\"][x]==\"Immigrants\":\n",
    "        if (type(pc[2012][x]))==int:\n",
    "            s2+=pc[2012][x]"
   ]
  },
  {
   "cell_type": "code",
   "execution_count": 103,
   "metadata": {
    "collapsed": true
   },
   "outputs": [],
   "source": [
    "ne=(int((s1/12)/365)) # no of tourists and or workers per day (outgoing)\n",
    "ni=(int((s2/12)/365)) # no of tourists and or workers per day (incoming) \n",
    "n1=[]\n",
    "n2=[]   \n",
    "for x in range(0,60):\n",
    "    n1.append(ne)\n",
    "    n2.append(ni)"
   ]
  },
  {
   "cell_type": "code",
   "execution_count": 104,
   "metadata": {},
   "outputs": [
    {
     "name": "stdout",
     "output_type": "stream",
     "text": [
      "[1, 8, 9, 48, 36, 13] [14, 53, 13, 50, 44, 8]\n"
     ]
    }
   ],
   "source": [
    "y=random.sample(range(0,59),6)\n",
    "z=random.sample(range(0,59),6)\n",
    "print (y,z)"
   ]
  },
  {
   "cell_type": "code",
   "execution_count": null,
   "metadata": {
    "collapsed": true
   },
   "outputs": [],
   "source": [
    "\"\"\"creating dataframe for incoming and outgoing people\"\"\""
   ]
  },
  {
   "cell_type": "code",
   "execution_count": 105,
   "metadata": {
    "collapsed": true
   },
   "outputs": [],
   "source": [
    "for x in range(0,60):\n",
    "    n1[x]+=random.randint(1,6)\n",
    "    n2[x]+=random.randint(1,6)\n",
    "    if x in y:\n",
    "        n1[x]+=random.randint(50,100)\n",
    "    if x in z:\n",
    "        n2[x]+=random.randint(50,100)"
   ]
  },
  {
   "cell_type": "code",
   "execution_count": 106,
   "metadata": {},
   "outputs": [
    {
     "name": "stdout",
     "output_type": "stream",
     "text": [
      "    incoming  outgoing\n",
      "0         25        22\n",
      "1         29       118\n",
      "2         26        23\n",
      "3         27        19\n",
      "4         25        22\n",
      "5         29        23\n",
      "6         29        24\n",
      "7         24        19\n",
      "8         79       119\n",
      "9         28        73\n",
      "10        28        23\n",
      "11        28        20\n",
      "12        27        23\n",
      "13        91       122\n",
      "14       117        20\n",
      "15        28        20\n",
      "16        26        22\n",
      "17        25        24\n",
      "18        24        22\n",
      "19        29        24\n",
      "20        26        24\n",
      "21        26        23\n",
      "22        27        19\n",
      "23        28        21\n",
      "24        26        22\n",
      "25        27        22\n",
      "26        28        20\n",
      "27        26        21\n",
      "28        29        21\n",
      "29        29        19\n",
      "30        25        22\n",
      "31        24        23\n",
      "32        25        22\n",
      "33        27        20\n",
      "34        26        24\n",
      "35        26        19\n",
      "36        26        75\n",
      "37        28        24\n",
      "38        29        22\n",
      "39        26        20\n",
      "40        24        22\n",
      "41        25        23\n",
      "42        27        19\n",
      "43        27        21\n",
      "44        81        21\n",
      "45        28        20\n",
      "46        27        22\n",
      "47        28        19\n",
      "48        28        85\n",
      "49        29        22\n",
      "50       102        22\n",
      "51        24        24\n",
      "52        26        21\n",
      "53       104        19\n",
      "54        26        24\n",
      "55        27        24\n",
      "56        26        23\n",
      "57        29        21\n",
      "58        27        23\n",
      "59        25        24\n"
     ]
    }
   ],
   "source": [
    "fp=pd.DataFrame({\"incoming\":n2,\"outgoing\":n1})\n",
    "print (fp)"
   ]
  },
  {
   "cell_type": "code",
   "execution_count": 107,
   "metadata": {},
   "outputs": [
    {
     "data": {
      "text/plain": [
       "'plotting anomaly of incoming and outgoing people per day'"
      ]
     },
     "execution_count": 107,
     "metadata": {},
     "output_type": "execute_result"
    }
   ],
   "source": [
    "\"\"\"plotting anomaly of incoming and outgoing people per day\"\"\""
   ]
  },
  {
   "cell_type": "code",
   "execution_count": 108,
   "metadata": {},
   "outputs": [
    {
     "name": "stdout",
     "output_type": "stream",
     "text": [
      "   anomaly  position  anomaly2  position2\n",
      "0       79         8       118          1\n",
      "1       91        13       119          8\n",
      "2      117        14        73          9\n",
      "3       81        44       122         13\n",
      "4      102        50        75         36\n",
      "5      104        53        85         48\n"
     ]
    }
   ],
   "source": [
    "m=fp[\"incoming\"].mean()\n",
    "m2=fp[\"outgoing\"].mean()\n",
    "an=[]\n",
    "ind=[]\n",
    "an2=[]\n",
    "ind2=[]\n",
    "for x in range(0,len(fp)):\n",
    "    if fp[\"incoming\"][x]>m*2:\n",
    "        an.append(fp[\"incoming\"][x])\n",
    "        ind.append(x)\n",
    "    if fp[\"outgoing\"][x]>m2*2:\n",
    "        an2.append(fp[\"outgoing\"][x])\n",
    "        ind2.append(x)\n",
    "df_anomalies=pd.DataFrame({\"anomaly\":an,\"position\":ind,\"anomaly2\":an2,\"position2\":ind2})\n",
    "print (df_anomalies)"
   ]
  },
  {
   "cell_type": "code",
   "execution_count": 109,
   "metadata": {},
   "outputs": [
    {
     "data": {
      "text/plain": [
       "<matplotlib.collections.PathCollection at 0x1e77a360160>"
      ]
     },
     "execution_count": 109,
     "metadata": {},
     "output_type": "execute_result"
    },
    {
     "data": {
      "image/png": "[encoded data removed]",
      "text/plain": [
       "<matplotlib.figure.Figure at 0x1e77a4b7be0>"
      ]
     },
     "metadata": {},
     "output_type": "display_data"
    },
    {
     "data": {
      "image/png": "[encoded data removed]",
      "text/plain": [
       "<matplotlib.figure.Figure at 0x1e77a4b7898>"
      ]
     },
     "metadata": {},
     "output_type": "display_data"
    }
   ],
   "source": [
    "f3 = plt.figure()\n",
    "f4 = plt.figure()\n",
    "ax3 = f3.add_subplot(111)\n",
    "ax3.plot(fp[\"incoming\"])\n",
    "ax3.scatter(df_anomalies.position, df_anomalies.anomaly, color='r')\n",
    "ax4 = f4.add_subplot(111)\n",
    "ax4.plot(fp[\"outgoing\"])\n",
    "ax4.scatter(df_anomalies.position2, df_anomalies.anomaly2, color='r')"
   ]
  },
  {
   "cell_type": "code",
   "execution_count": 110,
   "metadata": {},
   "outputs": [
    {
     "name": "stdout",
     "output_type": "stream",
     "text": [
      "0.254686195338623\n"
     ]
    }
   ],
   "source": [
    "rt=(tb[\"rate_of_consumption(person/day)\"][0])\n",
    "print (rt)"
   ]
  },
  {
   "cell_type": "code",
   "execution_count": 111,
   "metadata": {},
   "outputs": [
    {
     "name": "stdout",
     "output_type": "stream",
     "text": [
      "    incoming  outgoing  population(*1000)\n",
      "0         25        22                211\n",
      "1         29       118                208\n",
      "2         26        23                206\n",
      "3         27        19                211\n",
      "4         25        22                207\n",
      "5         29        23                208\n",
      "6         29        24                211\n",
      "7         24        19                206\n",
      "8         79       119                209\n",
      "9         28        73                209\n",
      "10        28        23                211\n",
      "11        28        20                208\n",
      "12        27        23                207\n",
      "13        91       122                208\n",
      "14       117        20                208\n",
      "15        28        20                210\n",
      "16        26        22                211\n",
      "17        25        24                210\n",
      "18        24        22                210\n",
      "19        29        24                211\n",
      "20        26        24                206\n",
      "21        26        23                207\n",
      "22        27        19                208\n",
      "23        28        21                211\n",
      "24        26        22                206\n",
      "25        27        22                208\n",
      "26        28        20                211\n",
      "27        26        21                208\n",
      "28        29        21                210\n",
      "29        29        19                211\n",
      "30        25        22                209\n",
      "31        24        23                210\n",
      "32        25        22                207\n",
      "33        27        20                211\n",
      "34        26        24                211\n",
      "35        26        19                207\n",
      "36        26        75                209\n",
      "37        28        24                207\n",
      "38        29        22                211\n",
      "39        26        20                207\n",
      "40        24        22                206\n",
      "41        25        23                206\n",
      "42        27        19                207\n",
      "43        27        21                210\n",
      "44        81        21                209\n",
      "45        28        20                207\n",
      "46        27        22                208\n",
      "47        28        19                208\n",
      "48        28        85                209\n",
      "49        29        22                209\n",
      "50       102        22                210\n",
      "51        24        24                210\n",
      "52        26        21                208\n",
      "53       104        19                206\n",
      "54        26        24                210\n",
      "55        27        24                207\n",
      "56        26        23                206\n",
      "57        29        21                206\n",
      "58        27        23                207\n",
      "59        25        24                208\n"
     ]
    }
   ],
   "source": [
    "n3=[]\n",
    "for x in range(0,len(fp)):\n",
    "    n3.append(205)\n",
    "    n3[x]+=random.randint(1,6)\n",
    "fp[\"population(*1000)\"]=n3\n",
    "print (fp)"
   ]
  },
  {
   "cell_type": "code",
   "execution_count": 112,
   "metadata": {},
   "outputs": [
    {
     "data": {
      "text/plain": [
       "'finding out no of days the current stocks will last based on the current population , \\n   rate of consumption (amount per day consumed by entire population of the area)'"
      ]
     },
     "execution_count": 112,
     "metadata": {},
     "output_type": "execute_result"
    }
   ],
   "source": [
    "\"\"\"finding out no of days the current stocks will last based on the current population , \n",
    "   rate of consumption (amount per day consumed by entire population of the area)\"\"\""
   ]
  },
  {
   "cell_type": "code",
   "execution_count": 113,
   "metadata": {},
   "outputs": [
    {
     "name": "stdout",
     "output_type": "stream",
     "text": [
      "    amount/day(pounds)  current_stocks  days_left\n",
      "0                   54            2216         41\n",
      "1                   30            2216         73\n",
      "2                   53            2216         41\n",
      "3                   55            2216         40\n",
      "4                   53            2216         41\n",
      "5                   54            2216         41\n",
      "6                   55            2216         40\n",
      "7                   53            2216         41\n",
      "8                   43            2216         51\n",
      "9                   41            2216         54\n",
      "10                  55            2216         40\n",
      "11                  55            2216         40\n",
      "12                  53            2216         41\n",
      "13                  45            2216         49\n",
      "14                  77            2216         28\n",
      "15                  55            2216         40\n",
      "16                  54            2216         41\n",
      "17                  53            2216         41\n",
      "18                  53            2216         41\n",
      "19                  55            2216         40\n",
      "20                  52            2216         42\n",
      "21                  53            2216         41\n",
      "22                  55            2216         40\n",
      "23                  55            2216         40\n",
      "24                  53            2216         41\n",
      "25                  54            2216         41\n",
      "26                  55            2216         40\n",
      "27                  54            2216         41\n",
      "28                  55            2216         40\n",
      "29                  56            2216         39\n",
      "30                  53            2216         41\n",
      "31                  53            2216         41\n",
      "32                  53            2216         41\n",
      "33                  55            2216         40\n",
      "34                  54            2216         41\n",
      "35                  54            2216         41\n",
      "36                  40            2216         55\n",
      "37                  53            2216         41\n",
      "38                  55            2216         40\n",
      "39                  54            2216         41\n",
      "40                  52            2216         42\n",
      "41                  52            2216         42\n",
      "42                  54            2216         41\n",
      "43                  55            2216         40\n",
      "44                  68            2216         32\n",
      "45                  54            2216         41\n",
      "46                  54            2216         41\n",
      "47                  55            2216         40\n",
      "48                  38            2216         58\n",
      "49                  55            2216         40\n",
      "50                  73            2216         30\n",
      "51                  53            2216         41\n",
      "52                  54            2216         41\n",
      "53                  74            2216         29\n",
      "54                  53            2216         41\n",
      "55                  53            2216         41\n",
      "56                  53            2216         41\n",
      "57                  54            2216         41\n",
      "58                  53            2216         41\n",
      "59                  53            2216         41\n"
     ]
    }
   ],
   "source": [
    "dl=[]\n",
    "cs=[]\n",
    "days=[]\n",
    "for x in range(0,len(fp)):\n",
    "    dl.append(int(rt*(fp[\"population(*1000)\"][x]+fp[\"incoming\"][x]-fp[\"outgoing\"][x])))\n",
    "    cs.append(2116+100) # assuming current stocks to be 2116 pounds and adding surplus of 100 pounds\n",
    "    days.append(int(cs[x]/dl[x]))\n",
    "rf=pd.DataFrame({\"amount/day(pounds)\":dl,\"current_stocks\":cs,\"days_left\":days})\n",
    "print (rf)"
   ]
  },
  {
   "cell_type": "code",
   "execution_count": 114,
   "metadata": {},
   "outputs": [
    {
     "data": {
      "text/plain": [
       "'calculating the food stocks needed in order to fullfil the needs for the population residing in the \\n   affected area (everything is in pounds)'"
      ]
     },
     "execution_count": 114,
     "metadata": {},
     "output_type": "execute_result"
    }
   ],
   "source": [
    "\"\"\"calculating the food stocks needed in order to fullfil the needs for the population residing in the \n",
    "   affected area (everything is in pounds)\"\"\""
   ]
  },
  {
   "cell_type": "code",
   "execution_count": 115,
   "metadata": {},
   "outputs": [
    {
     "name": "stdout",
     "output_type": "stream",
     "text": [
      "    amount/day(pounds)  current_stocks  days_left  days_left_for_disaster  \\\n",
      "0                   54            2216         41                       1   \n",
      "1                   30            2216         73                       3   \n",
      "2                   53            2216         41                       5   \n",
      "3                   55            2216         40                       1   \n",
      "4                   53            2216         41                       3   \n",
      "5                   54            2216         41                       3   \n",
      "6                   55            2216         40                       3   \n",
      "7                   53            2216         41                       2   \n",
      "8                   43            2216         51                       1   \n",
      "9                   41            2216         54                       4   \n",
      "10                  55            2216         40                       5   \n",
      "11                  55            2216         40                       4   \n",
      "12                  53            2216         41                       2   \n",
      "13                  45            2216         49                       4   \n",
      "14                  77            2216         28                       3   \n",
      "15                  55            2216         40                       6   \n",
      "16                  54            2216         41                       6   \n",
      "17                  53            2216         41                       6   \n",
      "18                  53            2216         41                       5   \n",
      "19                  55            2216         40                       5   \n",
      "20                  52            2216         42                       6   \n",
      "21                  53            2216         41                       5   \n",
      "22                  55            2216         40                       1   \n",
      "23                  55            2216         40                       2   \n",
      "24                  53            2216         41                       5   \n",
      "25                  54            2216         41                       4   \n",
      "26                  55            2216         40                       2   \n",
      "27                  54            2216         41                       4   \n",
      "28                  55            2216         40                       1   \n",
      "29                  56            2216         39                       1   \n",
      "30                  53            2216         41                       6   \n",
      "31                  53            2216         41                       4   \n",
      "32                  53            2216         41                       6   \n",
      "33                  55            2216         40                       6   \n",
      "34                  54            2216         41                       1   \n",
      "35                  54            2216         41                       2   \n",
      "36                  40            2216         55                       5   \n",
      "37                  53            2216         41                       5   \n",
      "38                  55            2216         40                       4   \n",
      "39                  54            2216         41                       6   \n",
      "40                  52            2216         42                       1   \n",
      "41                  52            2216         42                       5   \n",
      "42                  54            2216         41                       2   \n",
      "43                  55            2216         40                       2   \n",
      "44                  68            2216         32                       4   \n",
      "45                  54            2216         41                       5   \n",
      "46                  54            2216         41                       4   \n",
      "47                  55            2216         40                       2   \n",
      "48                  38            2216         58                       1   \n",
      "49                  55            2216         40                       1   \n",
      "50                  73            2216         30                       3   \n",
      "51                  53            2216         41                       6   \n",
      "52                  54            2216         41                       2   \n",
      "53                  74            2216         29                       1   \n",
      "54                  53            2216         41                       4   \n",
      "55                  53            2216         41                       1   \n",
      "56                  53            2216         41                       2   \n",
      "57                  54            2216         41                       2   \n",
      "58                  53            2216         41                       2   \n",
      "59                  53            2216         41                       5   \n",
      "\n",
      "    stock_needed(pounds)  \n",
      "0              53.738787  \n",
      "1             158.924186  \n",
      "2             262.326781  \n",
      "3              53.738787  \n",
      "4             158.160127  \n",
      "5             158.924186  \n",
      "6             161.216362  \n",
      "7             104.930712  \n",
      "8              53.229415  \n",
      "9             212.917659  \n",
      "10            268.693936  \n",
      "11            211.898915  \n",
      "12            105.440085  \n",
      "13            211.898915  \n",
      "14            158.924186  \n",
      "15            320.904606  \n",
      "16            322.432723  \n",
      "17            320.904606  \n",
      "18            267.420505  \n",
      "19            268.693936  \n",
      "20            314.792137  \n",
      "21            263.600212  \n",
      "22             52.974729  \n",
      "23            107.477574  \n",
      "24            262.326781  \n",
      "25            211.898915  \n",
      "26            107.477574  \n",
      "27            211.898915  \n",
      "28             53.484101  \n",
      "29             53.738787  \n",
      "30            319.376489  \n",
      "31            213.936404  \n",
      "32            316.320255  \n",
      "33            322.432723  \n",
      "34             53.738787  \n",
      "35            105.440085  \n",
      "36            266.147074  \n",
      "37            263.600212  \n",
      "38            214.955149  \n",
      "39            316.320255  \n",
      "40             52.465356  \n",
      "41            262.326781  \n",
      "42            105.440085  \n",
      "43            106.968202  \n",
      "44            212.917659  \n",
      "45            263.600212  \n",
      "46            211.898915  \n",
      "47            105.949457  \n",
      "48             53.229415  \n",
      "49             53.229415  \n",
      "50            160.452303  \n",
      "51            320.904606  \n",
      "52            105.949457  \n",
      "53             52.465356  \n",
      "54            213.936404  \n",
      "55             52.720042  \n",
      "56            104.930712  \n",
      "57            104.930712  \n",
      "58            105.440085  \n",
      "59            264.873643  \n"
     ]
    }
   ],
   "source": [
    "dd=[]\n",
    "stk=[]\n",
    "for x in range(0,len(fp)):\n",
    "    dlfd=(rf[\"days_left\"][x]+random.randint(1,6))\n",
    "    dd.append(dlfd-rf[\"days_left\"][x])\n",
    "    stk.append(rt*dd[x]*fp[\"population(*1000)\"][x])\n",
    "rf[\"days_left_for_disaster\"]=dd\n",
    "rf[\"stock_needed(pounds)\"]=stk\n",
    "print (rf)"
   ]
  }
 ],
 "metadata": {
  "kernelspec": {
   "display_name": "Python 3",
   "language": "python",
   "name": "python3"
  },
  "language_info": {
   "codemirror_mode": {
    "name": "ipython",
    "version": 3
   },
   "file_extension": ".py",
   "mimetype": "text/x-python",
   "name": "python",
   "nbconvert_exporter": "python",
   "pygments_lexer": "ipython3",
   "version": "3.6.3"
  }
 },
 "nbformat": 4,
 "nbformat_minor": 2
}
